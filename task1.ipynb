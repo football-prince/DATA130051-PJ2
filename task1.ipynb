{
 "cells": [
  {
   "cell_type": "code",
   "execution_count": 19,
   "metadata": {},
   "outputs": [
    {
     "name": "stderr",
     "output_type": "stream",
     "text": [
      "Epoch 1/10: 100%|██████████| 295/295 [00:17<00:00, 16.41it/s]\n"
     ]
    },
    {
     "name": "stdout",
     "output_type": "stream",
     "text": [
      "Epoch 1, Train Loss: 4.6564, Train Accuracy: 10.88%\n",
      "Epoch 1, Val Loss: 3.6996, Val Accuracy: 24.43%\n"
     ]
    },
    {
     "name": "stderr",
     "output_type": "stream",
     "text": [
      "Epoch 2/10: 100%|██████████| 295/295 [00:18<00:00, 15.96it/s]\n"
     ]
    },
    {
     "name": "stdout",
     "output_type": "stream",
     "text": [
      "Epoch 2, Train Loss: 3.0751, Train Accuracy: 42.68%\n",
      "Epoch 2, Val Loss: 2.6301, Val Accuracy: 46.23%\n"
     ]
    },
    {
     "name": "stderr",
     "output_type": "stream",
     "text": [
      "Epoch 3/10: 100%|██████████| 295/295 [00:17<00:00, 16.66it/s]\n"
     ]
    },
    {
     "name": "stdout",
     "output_type": "stream",
     "text": [
      "Epoch 3, Train Loss: 2.1918, Train Accuracy: 61.77%\n",
      "Epoch 3, Val Loss: 2.0002, Val Accuracy: 58.40%\n"
     ]
    },
    {
     "name": "stderr",
     "output_type": "stream",
     "text": [
      "Epoch 4/10: 100%|██████████| 295/295 [00:16<00:00, 17.44it/s]\n"
     ]
    },
    {
     "name": "stdout",
     "output_type": "stream",
     "text": [
      "Epoch 4, Train Loss: 1.6221, Train Accuracy: 73.92%\n",
      "Epoch 4, Val Loss: 1.6569, Val Accuracy: 63.70%\n"
     ]
    },
    {
     "name": "stderr",
     "output_type": "stream",
     "text": [
      "Epoch 5/10: 100%|██████████| 295/295 [00:16<00:00, 17.84it/s]\n"
     ]
    },
    {
     "name": "stdout",
     "output_type": "stream",
     "text": [
      "Epoch 5, Train Loss: 1.2309, Train Accuracy: 80.63%\n",
      "Epoch 5, Val Loss: 1.4074, Val Accuracy: 69.34%\n"
     ]
    },
    {
     "name": "stderr",
     "output_type": "stream",
     "text": [
      "Epoch 6/10: 100%|██████████| 295/295 [00:16<00:00, 17.73it/s]\n"
     ]
    },
    {
     "name": "stdout",
     "output_type": "stream",
     "text": [
      "Epoch 6, Train Loss: 0.9531, Train Accuracy: 85.92%\n",
      "Epoch 6, Val Loss: 1.2746, Val Accuracy: 70.36%\n"
     ]
    },
    {
     "name": "stderr",
     "output_type": "stream",
     "text": [
      "Epoch 7/10: 100%|██████████| 295/295 [00:16<00:00, 18.06it/s]\n"
     ]
    }
   ],
   "source": [
    "import torch\n",
    "import torch.nn as nn\n",
    "import torch.optim as optim\n",
    "from torchvision import models, transforms, datasets\n",
    "from torch.utils.data import DataLoader, random_split\n",
    "from tqdm import tqdm\n",
    "from torch.cuda.amp import GradScaler, autocast\n",
    "import matplotlib.pyplot as plt\n",
    "import copy\n",
    "\n",
    "def load_pretrained_model(num_classes):\n",
    "    resnet18_pretrained = models.resnet18(pretrained=True)\n",
    "    num_ftrs = resnet18_pretrained.fc.in_features\n",
    "    resnet18_pretrained.fc = nn.Linear(num_ftrs, num_classes)\n",
    "    return resnet18_pretrained\n",
    "\n",
    "def prepare_datasets(data_dir, batch_size):\n",
    "    data_transform = transforms.Compose([\n",
    "        transforms.Resize(256),\n",
    "        transforms.CenterCrop(224),\n",
    "        transforms.ToTensor(),\n",
    "        transforms.Normalize(mean=[0.485, 0.456, 0.406], std=[0.229, 0.224, 0.225]),\n",
    "    ])\n",
    "    full_dataset = datasets.ImageFolder(data_dir, transform=data_transform)\n",
    "    train_size = int(0.8 * len(full_dataset))\n",
    "    val_size = len(full_dataset) - train_size\n",
    "    train_dataset, val_dataset = random_split(full_dataset, [train_size, val_size])\n",
    "    train_loader = DataLoader(train_dataset, batch_size=batch_size, shuffle=True, num_workers=4, pin_memory=True)\n",
    "    val_loader = DataLoader(val_dataset, batch_size=batch_size, shuffle=False, num_workers=4, pin_memory=True)\n",
    "    return train_loader, val_loader\n",
    "\n",
    "def train_model(model, train_loader, val_loader, criterion, optimizer, num_epochs):\n",
    "    device = torch.device(\"cuda:0\" if torch.cuda.is_available() else \"cpu\")\n",
    "    model = model.to(device)\n",
    "    scaler = GradScaler()\n",
    "\n",
    "    train_losses = []\n",
    "    val_losses = []\n",
    "    val_accuracies = []\n",
    "    best_val_accuracy = 0.0\n",
    "    best_model = None\n",
    "\n",
    "    for epoch in range(num_epochs):\n",
    "        # Training\n",
    "        model.train()\n",
    "        running_loss = 0.0\n",
    "        correct = 0\n",
    "        total = 0\n",
    "        for inputs, labels in tqdm(train_loader, desc=f\"Epoch {epoch+1}/{num_epochs}\"):\n",
    "            inputs, labels = inputs.to(device), labels.to(device)\n",
    "            optimizer.zero_grad()\n",
    "\n",
    "            with autocast():\n",
    "                outputs = model(inputs)\n",
    "                loss = criterion(outputs, labels)\n",
    "\n",
    "            scaler.scale(loss).backward()\n",
    "            scaler.step(optimizer)\n",
    "            scaler.update()\n",
    "\n",
    "            running_loss += loss.item()\n",
    "            _, predicted = outputs.max(1)\n",
    "            total += labels.size(0)\n",
    "            correct += predicted.eq(labels).sum().item()\n",
    "\n",
    "        train_loss = running_loss / len(train_loader)\n",
    "        train_losses.append(train_loss)\n",
    "        train_accuracy = 100. * correct / total\n",
    "\n",
    "        # Validation\n",
    "        model.eval()\n",
    "        val_loss = 0.0\n",
    "        correct = 0\n",
    "        total = 0\n",
    "        with torch.no_grad():\n",
    "            for inputs, labels in val_loader:\n",
    "                inputs, labels = inputs.to(device), labels.to(device)\n",
    "                outputs = model(inputs)\n",
    "                loss = criterion(outputs, labels)\n",
    "\n",
    "                val_loss += loss.item()\n",
    "                _, predicted = outputs.max(1)\n",
    "                total += labels.size(0)\n",
    "                correct += predicted.eq(labels).sum().item()\n",
    "\n",
    "            val_loss /= len(val_loader)\n",
    "            val_losses.append(val_loss)\n",
    "            val_accuracy = 100. * correct / total\n",
    "            val_accuracies.append(val_accuracy)\n",
    "\n",
    "            print(f\"Epoch {epoch+1}, Train Loss: {train_loss:.4f}, Train Accuracy: {train_accuracy:.2f}%\")\n",
    "            print(f\"Epoch {epoch+1}, Val Loss: {val_loss:.4f}, Val Accuracy: {val_accuracy:.2f}%\")\n",
    "\n",
    "            # 保存最佳模型\n",
    "            if val_accuracy > best_val_accuracy:\n",
    "                best_val_accuracy = val_accuracy\n",
    "                best_model = copy.deepcopy(model.state_dict())\n",
    "\n",
    "    return model, train_losses, val_losses, val_accuracies, best_model\n",
    "\n",
    "def plot_results(train_losses, val_losses, val_accuracies):\n",
    "    epochs = range(1, len(train_losses) + 1)\n",
    "    plt.figure(figsize=(12, 4))\n",
    "\n",
    "    plt.subplot(1, 2, 1)\n",
    "    plt.plot(epochs, train_losses, label='Train Loss')\n",
    "    plt.plot(epochs, val_losses, label='Val Loss')\n",
    "    plt.xlabel('Epochs')\n",
    "    plt.ylabel('Loss')\n",
    "    plt.legend()\n",
    "    plt.title('Train and Val Loss')\n",
    "\n",
    "    plt.subplot(1, 2, 2)\n",
    "    plt.plot(epochs, val_accuracies, label='Val Accuracy')\n",
    "    plt.xlabel('Epochs')\n",
    "    plt.ylabel('Accuracy')\n",
    "    plt.legend()\n",
    "    plt.title('Val Accuracy')\n",
    "\n",
    "    plt.show()\n",
    "\n",
    "# 使用示例\n",
    "data_dir = 'images'\n",
    "batch_size = 32\n",
    "num_classes = 200\n",
    "num_epochs = 10\n",
    "\n",
    "model = load_pretrained_model(num_classes)\n",
    "train_loader, val_loader = prepare_datasets(data_dir, batch_size)\n",
    "criterion = nn.CrossEntropyLoss()\n",
    "optimizer = optim.SGD(model.parameters(), lr=0.001, momentum=0.9)\n",
    "trained_model, train_losses, val_losses, val_accuracies, best_model = train_model(model, train_loader, val_loader, criterion, optimizer, num_epochs)\n",
    "torch.save(best_model, 'best_model.pth')\n",
    "plot_results(train_losses, val_losses, val_accuracies)\n"
   ]
  },
  {
   "cell_type": "code",
   "execution_count": 15,
   "metadata": {},
   "outputs": [
    {
     "name": "stderr",
     "output_type": "stream",
     "text": [
      "Epoch 1/5: 100%|██████████| 295/295 [00:16<00:00, 17.82it/s]\n"
     ]
    },
    {
     "name": "stdout",
     "output_type": "stream",
     "text": [
      "Epoch 1, Train Loss: 3.0989, Train Accuracy: 32.68%\n",
      "Epoch 1, Val Loss: 1.6011, Val Accuracy: 58.02%\n"
     ]
    },
    {
     "name": "stderr",
     "output_type": "stream",
     "text": [
      "Epoch 2/5: 100%|██████████| 295/295 [00:18<00:00, 15.70it/s]\n"
     ]
    },
    {
     "name": "stdout",
     "output_type": "stream",
     "text": [
      "Epoch 2, Train Loss: 1.1239, Train Accuracy: 71.56%\n",
      "Epoch 2, Val Loss: 1.1576, Val Accuracy: 69.00%\n"
     ]
    },
    {
     "name": "stderr",
     "output_type": "stream",
     "text": [
      "Epoch 3/5: 100%|██████████| 295/295 [00:16<00:00, 17.82it/s]\n"
     ]
    },
    {
     "name": "stdout",
     "output_type": "stream",
     "text": [
      "Epoch 3, Train Loss: 0.6369, Train Accuracy: 84.43%\n",
      "Epoch 3, Val Loss: 1.0101, Val Accuracy: 71.80%\n"
     ]
    },
    {
     "name": "stderr",
     "output_type": "stream",
     "text": [
      "Epoch 4/5: 100%|██████████| 295/295 [00:16<00:00, 18.02it/s]\n"
     ]
    },
    {
     "name": "stdout",
     "output_type": "stream",
     "text": [
      "Epoch 4, Train Loss: 0.3646, Train Accuracy: 92.44%\n",
      "Epoch 4, Val Loss: 0.9693, Val Accuracy: 73.49%\n"
     ]
    },
    {
     "name": "stderr",
     "output_type": "stream",
     "text": [
      "Epoch 5/5: 100%|██████████| 295/295 [00:16<00:00, 17.78it/s]\n"
     ]
    },
    {
     "name": "stdout",
     "output_type": "stream",
     "text": [
      "Epoch 5, Train Loss: 0.2086, Train Accuracy: 96.84%\n",
      "Epoch 5, Val Loss: 0.9175, Val Accuracy: 74.64%\n"
     ]
    },
    {
     "name": "stderr",
     "output_type": "stream",
     "text": [
      "Epoch 1/5: 100%|██████████| 148/148 [00:14<00:00, 10.37it/s]\n"
     ]
    },
    {
     "name": "stdout",
     "output_type": "stream",
     "text": [
      "Epoch 1, Train Loss: 3.8346, Train Accuracy: 22.90%\n",
      "Epoch 1, Val Loss: 2.3895, Val Accuracy: 45.59%\n"
     ]
    },
    {
     "name": "stderr",
     "output_type": "stream",
     "text": [
      "Epoch 2/5: 100%|██████████| 148/148 [00:14<00:00, 10.31it/s]\n"
     ]
    },
    {
     "name": "stdout",
     "output_type": "stream",
     "text": [
      "Epoch 2, Train Loss: 1.6635, Train Accuracy: 64.04%\n",
      "Epoch 2, Val Loss: 1.5144, Val Accuracy: 64.46%\n"
     ]
    },
    {
     "name": "stderr",
     "output_type": "stream",
     "text": [
      "Epoch 3/5: 100%|██████████| 148/148 [00:14<00:00, 10.08it/s]\n"
     ]
    },
    {
     "name": "stdout",
     "output_type": "stream",
     "text": [
      "Epoch 3, Train Loss: 1.0295, Train Accuracy: 77.27%\n",
      "Epoch 3, Val Loss: 1.2933, Val Accuracy: 67.64%\n"
     ]
    },
    {
     "name": "stderr",
     "output_type": "stream",
     "text": [
      "Epoch 4/5: 100%|██████████| 148/148 [00:14<00:00, 10.56it/s]\n"
     ]
    },
    {
     "name": "stdout",
     "output_type": "stream",
     "text": [
      "Epoch 4, Train Loss: 0.7125, Train Accuracy: 85.08%\n",
      "Epoch 4, Val Loss: 1.1459, Val Accuracy: 70.57%\n"
     ]
    },
    {
     "name": "stderr",
     "output_type": "stream",
     "text": [
      "Epoch 5/5: 100%|██████████| 148/148 [00:13<00:00, 10.58it/s]\n"
     ]
    },
    {
     "name": "stdout",
     "output_type": "stream",
     "text": [
      "Epoch 5, Train Loss: 0.5203, Train Accuracy: 89.78%\n",
      "Epoch 5, Val Loss: 1.0633, Val Accuracy: 72.86%\n"
     ]
    },
    {
     "name": "stderr",
     "output_type": "stream",
     "text": [
      "Epoch 1/5: 100%|██████████| 74/74 [00:14<00:00,  5.11it/s]\n"
     ]
    },
    {
     "name": "stdout",
     "output_type": "stream",
     "text": [
      "Epoch 1, Train Loss: 4.6204, Train Accuracy: 11.03%\n",
      "Epoch 1, Val Loss: 3.5350, Val Accuracy: 28.67%\n"
     ]
    },
    {
     "name": "stderr",
     "output_type": "stream",
     "text": [
      "Epoch 2/5: 100%|██████████| 74/74 [00:14<00:00,  5.11it/s]\n"
     ]
    },
    {
     "name": "stdout",
     "output_type": "stream",
     "text": [
      "Epoch 2, Train Loss: 2.7006, Train Accuracy: 48.44%\n",
      "Epoch 2, Val Loss: 2.2535, Val Accuracy: 52.12%\n"
     ]
    },
    {
     "name": "stderr",
     "output_type": "stream",
     "text": [
      "Epoch 3/5: 100%|██████████| 74/74 [00:14<00:00,  5.05it/s]\n"
     ]
    },
    {
     "name": "stdout",
     "output_type": "stream",
     "text": [
      "Epoch 3, Train Loss: 1.7515, Train Accuracy: 66.91%\n",
      "Epoch 3, Val Loss: 1.7482, Val Accuracy: 61.58%\n"
     ]
    },
    {
     "name": "stderr",
     "output_type": "stream",
     "text": [
      "Epoch 4/5: 100%|██████████| 74/74 [00:14<00:00,  5.25it/s]\n"
     ]
    },
    {
     "name": "stdout",
     "output_type": "stream",
     "text": [
      "Epoch 4, Train Loss: 1.2914, Train Accuracy: 75.73%\n",
      "Epoch 4, Val Loss: 1.4750, Val Accuracy: 66.75%\n"
     ]
    },
    {
     "name": "stderr",
     "output_type": "stream",
     "text": [
      "Epoch 5/5: 100%|██████████| 74/74 [00:14<00:00,  5.04it/s]\n"
     ]
    },
    {
     "name": "stdout",
     "output_type": "stream",
     "text": [
      "Epoch 5, Train Loss: 1.0111, Train Accuracy: 80.59%\n",
      "Epoch 5, Val Loss: 1.3132, Val Accuracy: 68.83%\n"
     ]
    },
    {
     "name": "stderr",
     "output_type": "stream",
     "text": [
      "Epoch 1/5: 100%|██████████| 37/37 [00:15<00:00,  2.39it/s]\n"
     ]
    },
    {
     "name": "stdout",
     "output_type": "stream",
     "text": [
      "Epoch 1, Train Loss: 5.0908, Train Accuracy: 3.99%\n",
      "Epoch 1, Val Loss: 4.5157, Val Accuracy: 11.96%\n"
     ]
    },
    {
     "name": "stderr",
     "output_type": "stream",
     "text": [
      "Epoch 2/5: 100%|██████████| 37/37 [00:15<00:00,  2.39it/s]\n"
     ]
    },
    {
     "name": "stdout",
     "output_type": "stream",
     "text": [
      "Epoch 2, Train Loss: 3.9240, Train Accuracy: 27.74%\n",
      "Epoch 2, Val Loss: 3.4093, Val Accuracy: 34.90%\n"
     ]
    },
    {
     "name": "stderr",
     "output_type": "stream",
     "text": [
      "Epoch 3/5: 100%|██████████| 37/37 [00:15<00:00,  2.44it/s]\n"
     ]
    },
    {
     "name": "stdout",
     "output_type": "stream",
     "text": [
      "Epoch 3, Train Loss: 2.9209, Train Accuracy: 49.92%\n",
      "Epoch 3, Val Loss: 2.6578, Val Accuracy: 46.52%\n"
     ]
    },
    {
     "name": "stderr",
     "output_type": "stream",
     "text": [
      "Epoch 4/5: 100%|██████████| 37/37 [00:14<00:00,  2.47it/s]\n"
     ]
    },
    {
     "name": "stdout",
     "output_type": "stream",
     "text": [
      "Epoch 4, Train Loss: 2.2477, Train Accuracy: 61.93%\n",
      "Epoch 4, Val Loss: 2.1835, Val Accuracy: 57.04%\n"
     ]
    },
    {
     "name": "stderr",
     "output_type": "stream",
     "text": [
      "Epoch 5/5: 100%|██████████| 37/37 [00:16<00:00,  2.30it/s]\n"
     ]
    },
    {
     "name": "stdout",
     "output_type": "stream",
     "text": [
      "Epoch 5, Train Loss: 1.8134, Train Accuracy: 70.02%\n",
      "Epoch 5, Val Loss: 1.8981, Val Accuracy: 60.52%\n"
     ]
    },
    {
     "name": "stderr",
     "output_type": "stream",
     "text": [
      "Epoch 1/5: 100%|██████████| 295/295 [00:16<00:00, 17.51it/s]\n"
     ]
    },
    {
     "name": "stdout",
     "output_type": "stream",
     "text": [
      "Epoch 1, Train Loss: 5.0067, Train Accuracy: 5.16%\n",
      "Epoch 1, Val Loss: 4.5369, Val Accuracy: 12.68%\n"
     ]
    },
    {
     "name": "stderr",
     "output_type": "stream",
     "text": [
      "Epoch 2/5: 100%|██████████| 295/295 [00:16<00:00, 17.85it/s]\n"
     ]
    },
    {
     "name": "stdout",
     "output_type": "stream",
     "text": [
      "Epoch 2, Train Loss: 4.0788, Train Accuracy: 23.26%\n",
      "Epoch 2, Val Loss: 3.6725, Val Accuracy: 29.90%\n"
     ]
    },
    {
     "name": "stderr",
     "output_type": "stream",
     "text": [
      "Epoch 3/5: 100%|██████████| 295/295 [00:16<00:00, 17.37it/s]\n"
     ]
    },
    {
     "name": "stdout",
     "output_type": "stream",
     "text": [
      "Epoch 3, Train Loss: 3.2818, Train Accuracy: 41.79%\n",
      "Epoch 3, Val Loss: 2.9857, Val Accuracy: 44.40%\n"
     ]
    },
    {
     "name": "stderr",
     "output_type": "stream",
     "text": [
      "Epoch 4/5: 100%|██████████| 295/295 [00:15<00:00, 18.95it/s]\n"
     ]
    },
    {
     "name": "stdout",
     "output_type": "stream",
     "text": [
      "Epoch 4, Train Loss: 2.6773, Train Accuracy: 54.02%\n",
      "Epoch 4, Val Loss: 2.4804, Val Accuracy: 53.27%\n"
     ]
    },
    {
     "name": "stderr",
     "output_type": "stream",
     "text": [
      "Epoch 5/5: 100%|██████████| 295/295 [00:15<00:00, 18.68it/s]\n"
     ]
    },
    {
     "name": "stdout",
     "output_type": "stream",
     "text": [
      "Epoch 5, Train Loss: 2.2412, Train Accuracy: 62.42%\n",
      "Epoch 5, Val Loss: 2.1745, Val Accuracy: 58.52%\n"
     ]
    },
    {
     "name": "stderr",
     "output_type": "stream",
     "text": [
      "Epoch 1/5: 100%|██████████| 148/148 [00:14<00:00, 10.25it/s]\n"
     ]
    },
    {
     "name": "stdout",
     "output_type": "stream",
     "text": [
      "Epoch 1, Train Loss: 5.2319, Train Accuracy: 1.94%\n",
      "Epoch 1, Val Loss: 4.9708, Val Accuracy: 4.37%\n"
     ]
    },
    {
     "name": "stderr",
     "output_type": "stream",
     "text": [
      "Epoch 2/5: 100%|██████████| 148/148 [00:14<00:00, 10.09it/s]\n"
     ]
    },
    {
     "name": "stdout",
     "output_type": "stream",
     "text": [
      "Epoch 2, Train Loss: 4.7105, Train Accuracy: 10.83%\n",
      "Epoch 2, Val Loss: 4.5151, Val Accuracy: 15.22%\n"
     ]
    },
    {
     "name": "stderr",
     "output_type": "stream",
     "text": [
      "Epoch 3/5: 100%|██████████| 148/148 [00:14<00:00, 10.30it/s]\n"
     ]
    },
    {
     "name": "stdout",
     "output_type": "stream",
     "text": [
      "Epoch 3, Train Loss: 4.2288, Train Accuracy: 23.68%\n",
      "Epoch 3, Val Loss: 4.0652, Val Accuracy: 24.72%\n"
     ]
    },
    {
     "name": "stderr",
     "output_type": "stream",
     "text": [
      "Epoch 4/5: 100%|██████████| 148/148 [00:13<00:00, 10.78it/s]\n"
     ]
    },
    {
     "name": "stdout",
     "output_type": "stream",
     "text": [
      "Epoch 4, Train Loss: 3.7585, Train Accuracy: 34.97%\n",
      "Epoch 4, Val Loss: 3.6536, Val Accuracy: 32.82%\n"
     ]
    },
    {
     "name": "stderr",
     "output_type": "stream",
     "text": [
      "Epoch 5/5: 100%|██████████| 148/148 [00:14<00:00, 10.55it/s]\n"
     ]
    },
    {
     "name": "stdout",
     "output_type": "stream",
     "text": [
      "Epoch 5, Train Loss: 3.3392, Train Accuracy: 44.22%\n",
      "Epoch 5, Val Loss: 3.2867, Val Accuracy: 38.68%\n"
     ]
    },
    {
     "name": "stderr",
     "output_type": "stream",
     "text": [
      "Epoch 1/5: 100%|██████████| 74/74 [00:14<00:00,  5.04it/s]\n"
     ]
    },
    {
     "name": "stdout",
     "output_type": "stream",
     "text": [
      "Epoch 1, Train Loss: 5.3308, Train Accuracy: 0.81%\n",
      "Epoch 1, Val Loss: 5.1967, Val Accuracy: 1.61%\n"
     ]
    },
    {
     "name": "stderr",
     "output_type": "stream",
     "text": [
      "Epoch 2/5: 100%|██████████| 74/74 [00:14<00:00,  5.09it/s]\n"
     ]
    },
    {
     "name": "stdout",
     "output_type": "stream",
     "text": [
      "Epoch 2, Train Loss: 5.0339, Train Accuracy: 3.75%\n",
      "Epoch 2, Val Loss: 4.9589, Val Accuracy: 5.34%\n"
     ]
    },
    {
     "name": "stderr",
     "output_type": "stream",
     "text": [
      "Epoch 3/5: 100%|██████████| 74/74 [00:14<00:00,  4.96it/s]\n"
     ]
    },
    {
     "name": "stdout",
     "output_type": "stream",
     "text": [
      "Epoch 3, Train Loss: 4.7753, Train Accuracy: 9.47%\n",
      "Epoch 3, Val Loss: 4.7270, Val Accuracy: 10.43%\n"
     ]
    },
    {
     "name": "stderr",
     "output_type": "stream",
     "text": [
      "Epoch 4/5: 100%|██████████| 74/74 [00:14<00:00,  5.27it/s]\n"
     ]
    },
    {
     "name": "stdout",
     "output_type": "stream",
     "text": [
      "Epoch 4, Train Loss: 4.5221, Train Accuracy: 16.14%\n",
      "Epoch 4, Val Loss: 4.4985, Val Accuracy: 15.22%\n"
     ]
    },
    {
     "name": "stderr",
     "output_type": "stream",
     "text": [
      "Epoch 5/5: 100%|██████████| 74/74 [00:14<00:00,  5.14it/s]\n"
     ]
    },
    {
     "name": "stdout",
     "output_type": "stream",
     "text": [
      "Epoch 5, Train Loss: 4.2738, Train Accuracy: 22.71%\n",
      "Epoch 5, Val Loss: 4.2765, Val Accuracy: 20.10%\n"
     ]
    },
    {
     "name": "stderr",
     "output_type": "stream",
     "text": [
      "Epoch 1/5: 100%|██████████| 37/37 [00:16<00:00,  2.25it/s]\n"
     ]
    },
    {
     "name": "stdout",
     "output_type": "stream",
     "text": [
      "Epoch 1, Train Loss: 5.4138, Train Accuracy: 0.50%\n",
      "Epoch 1, Val Loss: 5.3261, Val Accuracy: 0.93%\n"
     ]
    },
    {
     "name": "stderr",
     "output_type": "stream",
     "text": [
      "Epoch 2/5: 100%|██████████| 37/37 [00:15<00:00,  2.46it/s]\n"
     ]
    },
    {
     "name": "stdout",
     "output_type": "stream",
     "text": [
      "Epoch 2, Train Loss: 5.2340, Train Accuracy: 1.27%\n",
      "Epoch 2, Val Loss: 5.1862, Val Accuracy: 2.33%\n"
     ]
    },
    {
     "name": "stderr",
     "output_type": "stream",
     "text": [
      "Epoch 3/5: 100%|██████████| 37/37 [00:14<00:00,  2.50it/s]\n"
     ]
    },
    {
     "ename": "KeyboardInterrupt",
     "evalue": "",
     "output_type": "error",
     "traceback": [
      "\u001b[0;31m---------------------------------------------------------------------------\u001b[0m",
      "\u001b[0;31mKeyboardInterrupt\u001b[0m                         Traceback (most recent call last)",
      "Cell \u001b[0;32mIn[15], line 32\u001b[0m\n\u001b[1;32m     26\u001b[0m     criterion \u001b[39m=\u001b[39m nn\u001b[39m.\u001b[39mCrossEntropyLoss()\n\u001b[1;32m     27\u001b[0m     optimizer \u001b[39m=\u001b[39m optim\u001b[39m.\u001b[39mSGD([\n\u001b[1;32m     28\u001b[0m         {\u001b[39m'\u001b[39m\u001b[39mparams\u001b[39m\u001b[39m'\u001b[39m: model\u001b[39m.\u001b[39mfc\u001b[39m.\u001b[39mparameters(), \u001b[39m'\u001b[39m\u001b[39mlr\u001b[39m\u001b[39m'\u001b[39m: lr_fc},\n\u001b[1;32m     29\u001b[0m         {\u001b[39m'\u001b[39m\u001b[39mparams\u001b[39m\u001b[39m'\u001b[39m: \u001b[39mlist\u001b[39m(model\u001b[39m.\u001b[39mparameters())[:\u001b[39m-\u001b[39m\u001b[39m2\u001b[39m], \u001b[39m'\u001b[39m\u001b[39mlr\u001b[39m\u001b[39m'\u001b[39m: lr_other}\n\u001b[1;32m     30\u001b[0m     ], momentum\u001b[39m=\u001b[39m\u001b[39m0.9\u001b[39m)\n\u001b[0;32m---> 32\u001b[0m     trained_model, train_losses, val_losses, val_accuracies \u001b[39m=\u001b[39m train_model(model, train_loader, val_loader, criterion, optimizer, num_epochs)\n\u001b[1;32m     34\u001b[0m     results\u001b[39m.\u001b[39mappend({\n\u001b[1;32m     35\u001b[0m         \u001b[39m'\u001b[39m\u001b[39mhyperparameters\u001b[39m\u001b[39m'\u001b[39m: hp,\n\u001b[1;32m     36\u001b[0m         \u001b[39m'\u001b[39m\u001b[39mtrained_model\u001b[39m\u001b[39m'\u001b[39m: trained_model,\n\u001b[0;32m   (...)\u001b[0m\n\u001b[1;32m     39\u001b[0m         \u001b[39m'\u001b[39m\u001b[39mval_accuracies\u001b[39m\u001b[39m'\u001b[39m: val_accuracies\n\u001b[1;32m     40\u001b[0m     })\n\u001b[1;32m     42\u001b[0m \u001b[39m# 分析结果并找出最佳组合\u001b[39;00m\n",
      "Cell \u001b[0;32mIn[9], line 78\u001b[0m, in \u001b[0;36mtrain_model\u001b[0;34m(model, train_loader, val_loader, criterion, optimizer, num_epochs)\u001b[0m\n\u001b[1;32m     75\u001b[0m outputs \u001b[39m=\u001b[39m model(inputs)\n\u001b[1;32m     76\u001b[0m loss \u001b[39m=\u001b[39m criterion(outputs, labels)\n\u001b[0;32m---> 78\u001b[0m val_loss \u001b[39m+\u001b[39m\u001b[39m=\u001b[39m loss\u001b[39m.\u001b[39;49mitem()\n\u001b[1;32m     79\u001b[0m _, predicted \u001b[39m=\u001b[39m outputs\u001b[39m.\u001b[39mmax(\u001b[39m1\u001b[39m)\n\u001b[1;32m     80\u001b[0m total \u001b[39m+\u001b[39m\u001b[39m=\u001b[39m labels\u001b[39m.\u001b[39msize(\u001b[39m0\u001b[39m)\n",
      "\u001b[0;31mKeyboardInterrupt\u001b[0m: "
     ]
    }
   ],
   "source": [
    "# 定义不同的超参数组合\n",
    "hyperparameters = [\n",
    "    {'num_epochs': 5, 'lr_fc': 0.001, 'lr_other': 0.001, 'batch_size': 32},\n",
    "    {'num_epochs': 5, 'lr_fc': 0.001, 'lr_other': 0.002, 'batch_size': 32},\n",
    "    {'num_epochs': 5, 'lr_fc': 0.001, 'lr_other': 0.003, 'batch_size': 32},\n",
    "    {'num_epochs': 5, 'lr_fc': 0.001, 'lr_other': 0.001, 'batch_size': 64},\n",
    "    {'num_epochs': 5, 'lr_fc': 0.001, 'lr_other': 0.002, 'batch_size': 64},\n",
    "    {'num_epochs': 5, 'lr_fc': 0.001, 'lr_other': 0.003, 'batch_size': 64},\n",
    "    {'num_epochs': 10, 'lr_fc': 0.001, 'lr_other': 0.001, 'batch_size': 32},\n",
    "    {'num_epochs': 10, 'lr_fc': 0.001, 'lr_other': 0.002, 'batch_size': 32},\n",
    "    {'num_epochs': 10, 'lr_fc': 0.001, 'lr_other': 0.003, 'batch_size': 32},\n",
    "    {'num_epochs': 10, 'lr_fc': 0.001, 'lr_other': 0.001, 'batch_size': 64},\n",
    "    {'num_epochs': 10, 'lr_fc': 0.001, 'lr_other': 0.002, 'batch_size': 64},\n",
    "    {'num_epochs': 10, 'lr_fc': 0.001, 'lr_other': 0.003, 'batch_size': 64},\n",
    "    # 添加更多组合...\n",
    "]\n",
    "\n",
    "\n",
    "results = []\n",
    "\n",
    "for hp in hyperparameters:\n",
    "    num_epochs = hp['num_epochs']\n",
    "    lr_fc = hp['lr_fc']\n",
    "    lr_other = hp['lr_other']\n",
    "    batch_size = hp['batch_size']\n",
    "    model = load_pretrained_model(num_classes)\n",
    "    train_loader, val_loader = prepare_datasets(data_dir, batch_size)\n",
    "    criterion = nn.CrossEntropyLoss()\n",
    "    optimizer = optim.SGD([\n",
    "        {'params': model.fc.parameters(), 'lr': lr_fc},\n",
    "        {'params': list(model.parameters())[:-2], 'lr': lr_other}\n",
    "    ], momentum=0.9)\n",
    "\n",
    "    trained_model, train_losses, val_losses, val_accuracies = train_model(model, train_loader, val_loader, criterion, optimizer, num_epochs)\n",
    "\n",
    "    results.append({\n",
    "        'hyperparameters': hp,\n",
    "        'trained_model': trained_model,\n",
    "        'train_losses': train_losses,\n",
    "        'val_losses': val_losses,\n",
    "        'val_accuracies': val_accuracies\n",
    "    })\n",
    "\n",
    "# 分析结果并找出最佳组合\n",
    "best_val_accuracy = 0.0\n",
    "best_hyperparameters = None\n",
    "for result in results:\n",
    "    val_accuracy = result['val_accuracies'][-1]\n",
    "    if val_accuracy > best_val_accuracy:\n",
    "        best_val_accuracy = val_accuracy\n",
    "        best_hyperparameters = result['hyperparameters']\n",
    "\n",
    "print(\"Best Hyperparameters:\", best_hyperparameters)"
   ]
  },
  {
   "cell_type": "code",
   "execution_count": 11,
   "metadata": {},
   "outputs": [
    {
     "name": "stderr",
     "output_type": "stream",
     "text": [
      "/opt/conda/envs/cv/lib/python3.10/site-packages/torchvision/models/_utils.py:208: UserWarning: The parameter 'pretrained' is deprecated since 0.13 and may be removed in the future, please use 'weights' instead.\n",
      "  warnings.warn(\n",
      "/opt/conda/envs/cv/lib/python3.10/site-packages/torchvision/models/_utils.py:223: UserWarning: Arguments other than a weight enum or `None` for 'weights' are deprecated since 0.13 and may be removed in the future. The current behavior is equivalent to passing `weights=ResNet18_Weights.IMAGENET1K_V1`. You can also use `weights=ResNet18_Weights.DEFAULT` to get the most up-to-date weights.\n",
      "  warnings.warn(msg)\n",
      "Epoch 1/5: 100%|██████████| 295/295 [00:16<00:00, 18.26it/s]\n"
     ]
    },
    {
     "name": "stdout",
     "output_type": "stream",
     "text": [
      "Epoch 1, Train Loss: 3.1213, Train Accuracy: 32.01%\n",
      "Epoch 1, Val Loss: 1.6263, Val Accuracy: 56.40%\n"
     ]
    },
    {
     "name": "stderr",
     "output_type": "stream",
     "text": [
      "Epoch 2/5: 100%|██████████| 295/295 [00:16<00:00, 17.58it/s]\n"
     ]
    },
    {
     "name": "stdout",
     "output_type": "stream",
     "text": [
      "Epoch 2, Train Loss: 1.1252, Train Accuracy: 71.29%\n",
      "Epoch 2, Val Loss: 1.1701, Val Accuracy: 67.18%\n"
     ]
    },
    {
     "name": "stderr",
     "output_type": "stream",
     "text": [
      "Epoch 3/5: 100%|██████████| 295/295 [00:16<00:00, 18.29it/s]\n"
     ]
    },
    {
     "name": "stdout",
     "output_type": "stream",
     "text": [
      "Epoch 3, Train Loss: 0.6319, Train Accuracy: 84.34%\n",
      "Epoch 3, Val Loss: 1.0719, Val Accuracy: 69.85%\n"
     ]
    },
    {
     "name": "stderr",
     "output_type": "stream",
     "text": [
      "Epoch 4/5: 100%|██████████| 295/295 [00:16<00:00, 17.60it/s]\n"
     ]
    },
    {
     "name": "stdout",
     "output_type": "stream",
     "text": [
      "Epoch 4, Train Loss: 0.3588, Train Accuracy: 92.59%\n",
      "Epoch 4, Val Loss: 0.9936, Val Accuracy: 72.56%\n"
     ]
    },
    {
     "name": "stderr",
     "output_type": "stream",
     "text": [
      "Epoch 5/5: 100%|██████████| 295/295 [00:17<00:00, 16.42it/s]\n"
     ]
    },
    {
     "name": "stdout",
     "output_type": "stream",
     "text": [
      "Epoch 5, Train Loss: 0.2094, Train Accuracy: 96.69%\n",
      "Epoch 5, Val Loss: 0.9803, Val Accuracy: 73.41%\n"
     ]
    },
    {
     "name": "stderr",
     "output_type": "stream",
     "text": [
      "/opt/conda/envs/cv/lib/python3.10/site-packages/torchvision/models/_utils.py:223: UserWarning: Arguments other than a weight enum or `None` for 'weights' are deprecated since 0.13 and may be removed in the future. The current behavior is equivalent to passing `weights=None`.\n",
      "  warnings.warn(msg)\n",
      "Epoch 1/5: 100%|██████████| 295/295 [00:16<00:00, 18.15it/s]\n"
     ]
    },
    {
     "name": "stdout",
     "output_type": "stream",
     "text": [
      "Epoch 1, Train Loss: 5.3644, Train Accuracy: 1.18%\n",
      "Epoch 1, Val Loss: 5.3233, Val Accuracy: 2.04%\n"
     ]
    },
    {
     "name": "stderr",
     "output_type": "stream",
     "text": [
      "Epoch 2/5: 100%|██████████| 295/295 [00:16<00:00, 18.22it/s]\n"
     ]
    },
    {
     "name": "stdout",
     "output_type": "stream",
     "text": [
      "Epoch 2, Train Loss: 4.8798, Train Accuracy: 2.71%\n",
      "Epoch 2, Val Loss: 4.7610, Val Accuracy: 2.97%\n"
     ]
    },
    {
     "name": "stderr",
     "output_type": "stream",
     "text": [
      "Epoch 3/5: 100%|██████████| 295/295 [00:15<00:00, 19.15it/s]\n"
     ]
    },
    {
     "name": "stdout",
     "output_type": "stream",
     "text": [
      "Epoch 3, Train Loss: 4.5750, Train Accuracy: 5.24%\n",
      "Epoch 3, Val Loss: 4.5637, Val Accuracy: 5.43%\n"
     ]
    },
    {
     "name": "stderr",
     "output_type": "stream",
     "text": [
      "Epoch 4/5: 100%|██████████| 295/295 [00:15<00:00, 19.01it/s]\n"
     ]
    },
    {
     "name": "stdout",
     "output_type": "stream",
     "text": [
      "Epoch 4, Train Loss: 4.3398, Train Accuracy: 6.95%\n",
      "Epoch 4, Val Loss: 4.3788, Val Accuracy: 6.74%\n"
     ]
    },
    {
     "name": "stderr",
     "output_type": "stream",
     "text": [
      "Epoch 5/5: 100%|██████████| 295/295 [00:15<00:00, 19.29it/s]\n"
     ]
    },
    {
     "name": "stdout",
     "output_type": "stream",
     "text": [
      "Epoch 5, Train Loss: 4.1124, Train Accuracy: 9.75%\n",
      "Epoch 5, Val Loss: 4.2244, Val Accuracy: 9.41%\n"
     ]
    },
    {
     "data": {
      "image/png": "[encoded data removed]",
      "text/plain": [
       "<Figure size 1200x400 with 2 Axes>"
      ]
     },
     "metadata": {},
     "output_type": "display_data"
    }
   ],
   "source": [
    "def load_pretrained_model(num_classes, pretrained=True):\n",
    "    if pretrained:\n",
    "        model = models.resnet18(pretrained=True)\n",
    "    else:\n",
    "        model = models.resnet18(pretrained=False)\n",
    "    num_ftrs = model.fc.in_features\n",
    "    model.fc = nn.Linear(num_ftrs, num_classes)\n",
    "    return model\n",
    "\n",
    "def plot_results(train_losses_pre, val_losses_pre, val_accuracies_pre, train_losses_scratch, val_losses_scratch, val_accuracies_scratch):\n",
    "    epochs_pre = range(1, len(train_losses_pre) + 1)\n",
    "    epochs_scratch = range(1, len(train_losses_scratch) + 1)\n",
    "\n",
    "    plt.figure(figsize=(12, 4))\n",
    "\n",
    "    plt.subplot(1, 2, 1)\n",
    "    plt.plot(epochs_pre, train_losses_pre, label='Pretrained Train Loss')\n",
    "    plt.plot(epochs_pre, val_losses_pre, label='Pretrained Val Loss')\n",
    "    plt.plot(epochs_scratch, train_losses_scratch, label='Scratch Train Loss')\n",
    "    plt.plot(epochs_scratch, val_losses_scratch, label='Scratch Val Loss')\n",
    "    plt.xlabel('Epochs')\n",
    "    plt.ylabel('Loss')\n",
    "    plt.legend()\n",
    "    plt.title('Train and Val Loss')\n",
    "\n",
    "    plt.subplot(1, 2, 2)\n",
    "    plt.plot(epochs_pre, val_accuracies_pre, label='Pretrained Val Accuracy')\n",
    "    plt.plot(epochs_scratch, val_accuracies_scratch, label='Scratch Val Accuracy')\n",
    "    plt.xlabel('Epochs')\n",
    "    plt.ylabel('Accuracy')\n",
    "    plt.legend()\n",
    "    plt.title('Val Accuracy')\n",
    "\n",
    "    plt.show()\n",
    "\n",
    "# 实验设计\n",
    "data_dir = 'images'\n",
    "batch_size = 32\n",
    "num_classes = 200\n",
    "num_epochs = 5\n",
    "lr_fc = 0.01\n",
    "lr_other = 0.001\n",
    "\n",
    "# 预训练模型\n",
    "model_pretrained = load_pretrained_model(num_classes)\n",
    "train_loader, val_loader = prepare_datasets(data_dir, batch_size)\n",
    "criterion = nn.CrossEntropyLoss()\n",
    "optimizer = optim.SGD([\n",
    "    {'params': model_pretrained.fc.parameters(), 'lr': lr_fc},\n",
    "    {'params': list(model_pretrained.parameters())[:-2], 'lr': lr_other}\n",
    "], momentum=0.9)\n",
    "trained_model_pretrained, train_losses_pre, val_losses_pre, val_accuracies_pre = train_model(model_pretrained, train_loader, val_loader, criterion, optimizer, num_epochs)\n",
    "\n",
    "# 从零开始训练\n",
    "model_scratch = load_pretrained_model(num_classes, pretrained=False)\n",
    "train_loader, val_loader = prepare_datasets(data_dir, batch_size)\n",
    "criterion = nn.CrossEntropyLoss()\n",
    "optimizer = optim.SGD([\n",
    "    {'params': model_scratch.fc.parameters(), 'lr': lr_fc},\n",
    "    {'params': list(model_scratch.parameters())[:-2], 'lr': lr_other}\n",
    "], momentum=0.9)\n",
    "trained_model_scratch, train_losses_scratch, val_losses_scratch, val_accuracies_scratch = train_model(model_scratch, train_loader, val_loader, criterion, optimizer, num_epochs)\n",
    "\n",
    "# 结果对比\n",
    "plot_results(train_losses_pre, val_losses_pre, val_accuracies_pre, train_losses_scratch, val_losses_scratch, val_accuracies_scratch)\n"
   ]
  }
 ],
 "metadata": {
  "kernelspec": {
   "display_name": "Python 3.12.3 ('cv')",
   "language": "python",
   "name": "python3"
  },
  "language_info": {
   "codemirror_mode": {
    "name": "ipython",
    "version": 3
   },
   "file_extension": ".py",
   "mimetype": "text/x-python",
   "name": "python",
   "nbconvert_exporter": "python",
   "pygments_lexer": "ipython3",
   "version": "3.10.4"
  },
  "orig_nbformat": 4,
  "vscode": {
   "interpreter": {
    "hash": "f0410ee2e4951a5e77858ca5fa6132f0a729b579182b07b655710c185a1df96e"
   }
  }
 },
 "nbformat": 4,
 "nbformat_minor": 2
}
